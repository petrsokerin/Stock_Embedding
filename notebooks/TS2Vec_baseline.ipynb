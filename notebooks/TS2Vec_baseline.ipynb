{
 "cells": [
  {
   "cell_type": "code",
   "execution_count": 1,
   "metadata": {},
   "outputs": [],
   "source": [
    "import os, sys\n",
    "dir2 = os.path.abspath('')\n",
    "dir1 = os.path.dirname(dir2)\n",
    "\n",
    "if not dir1 in sys.path:\n",
    "    sys.path.append(dir1)\n",
    "\n",
    "os.chdir('..')"
   ]
  },
  {
   "cell_type": "code",
   "execution_count": 17,
   "metadata": {},
   "outputs": [
    {
     "name": "stdout",
     "output_type": "stream",
     "text": [
      "The autoreload extension is already loaded. To reload it, use:\n",
      "  %reload_ext autoreload\n"
     ]
    }
   ],
   "source": [
    "import random\n",
    "import pandas as pd\n",
    "import numpy as np\n",
    "import torch\n",
    "\n",
    "from chronos import ChronosPipeline\n",
    "\n",
    "from sklearn.metrics import mean_absolute_error as MAE\n",
    "from sklearn.metrics import mean_absolute_percentage_error as MAPE\n",
    "from sklearn.metrics import accuracy_score, roc_auc_score\n",
    "\n",
    "from sklearn.ensemble import RandomForestRegressor, RandomForestClassifier\n",
    "from sklearn.linear_model import LinearRegression, LogisticRegression\n",
    "from sklearn.neighbors import KNeighborsRegressor, KNeighborsClassifier\n",
    "\n",
    "from sklearn.svm import SVR\n",
    "from sklearn.linear_model import Lasso\n",
    "from sklearn.linear_model import Ridge\n",
    "from xgboost import XGBRegressor, XGBClassifier\n",
    "from catboost import CatBoostRegressor, CatBoostClassifier\n",
    "\n",
    "from src.data.load_data import pipeline_data\n",
    "from src.models.ts2vec_src.ts2vec import TS2Vec\n",
    "\n",
    "from src.experiments import (\n",
    "    LagModelExperint, \n",
    "    SelfSupervisedExperint, \n",
    "    FoundationZeroShort, \n",
    "    ConstPredExperiment\n",
    ")\n",
    "\n",
    "%load_ext autoreload\n",
    "%autoreload 2"
   ]
  },
  {
   "cell_type": "code",
   "execution_count": 3,
   "metadata": {},
   "outputs": [],
   "source": [
    "torch.manual_seed(123)\n",
    "torch.cuda.manual_seed(123)\n",
    "np.random.seed(123)\n",
    "random.seed(123)\n",
    "torch.backends.cudnn.enabled=False\n",
    "torch.backends.cudnn.deterministic=True"
   ]
  },
  {
   "cell_type": "markdown",
   "metadata": {},
   "source": [
    "# Config"
   ]
  },
  {
   "cell_type": "code",
   "execution_count": 4,
   "metadata": {},
   "outputs": [],
   "source": [
    "col_agg_finctions = {'Open': 'first', 'High': 'max', 'Low': 'min', 'Close': 'last', 'Volume': 'sum'}"
   ]
  },
  {
   "cell_type": "code",
   "execution_count": 5,
   "metadata": {},
   "outputs": [],
   "source": [
    "train_start, train_end = '2023-10-01', '2023-11-01'\n",
    "test_start, test_end = '2023-11-01', '2023-11-07'"
   ]
  },
  {
   "cell_type": "code",
   "execution_count": 6,
   "metadata": {},
   "outputs": [],
   "source": [
    "use_pct_changes_X = False\n",
    "use_pct_changes_ts2v = False\n",
    "use_pct_changes_labels = False"
   ]
  },
  {
   "cell_type": "code",
   "execution_count": 7,
   "metadata": {},
   "outputs": [],
   "source": [
    "ts2vec_device = 1\n",
    "ts2vec_out_dim = 128\n",
    "\n",
    "n_shifts = 18"
   ]
  },
  {
   "cell_type": "code",
   "execution_count": 8,
   "metadata": {},
   "outputs": [],
   "source": [
    "ticker_data_path = 'configs/best_stocks_nans_rate.yaml'\n",
    "ticker_data_path = 'data/all_tickers.csv'"
   ]
  },
  {
   "cell_type": "markdown",
   "metadata": {},
   "source": [
    "# DataLoading"
   ]
  },
  {
   "cell_type": "code",
   "execution_count": 9,
   "metadata": {},
   "outputs": [],
   "source": [
    "df = pipeline_data(col_agg_finctions=col_agg_finctions)"
   ]
  },
  {
   "cell_type": "code",
   "execution_count": 10,
   "metadata": {},
   "outputs": [
    {
     "name": "stderr",
     "output_type": "stream",
     "text": [
      "/home/stock_embeddings/miniconda/lib/python3.9/site-packages/sklearn/linear_model/_logistic.py:469: ConvergenceWarning: lbfgs failed to converge (status=1):\n",
      "STOP: TOTAL NO. of ITERATIONS REACHED LIMIT.\n",
      "\n",
      "Increase the number of iterations (max_iter) or scale the data as shown in:\n",
      "    https://scikit-learn.org/stable/modules/preprocessing.html\n",
      "Please also refer to the documentation for alternative solver options:\n",
      "    https://scikit-learn.org/stable/modules/linear_model.html#logistic-regression\n",
      "  n_iter_i = _check_optimize_result(\n"
     ]
    },
    {
     "data": {
      "text/plain": [
       "0.42410714285714285"
      ]
     },
     "execution_count": 10,
     "metadata": {},
     "output_type": "execute_result"
    }
   ],
   "source": [
    "emb_model = TS2Vec(input_dims=4, device=2, output_dims=ts2vec_out_dim)\n",
    "emb_model_exp = SelfSupervisedExperint(\n",
    "    model = LogisticRegression(),\n",
    "    emb_model = emb_model,\n",
    "    train_start = train_start, \n",
    "    train_end = train_end, \n",
    "    test_start = test_start, \n",
    "    test_end = test_end,\n",
    "    label_name = 'Close',\n",
    "    use_pct_changes_data = False,\n",
    "    use_pct_changes_labels = True,\n",
    "    task = 'classification',\n",
    ")\n",
    "\n",
    "results, preds = emb_model_exp.pipeline(df, metric_func=accuracy_score)\n",
    "results"
   ]
  },
  {
   "cell_type": "code",
   "execution_count": 43,
   "metadata": {},
   "outputs": [
    {
     "data": {
      "text/plain": [
       "0.4851190476190476"
      ]
     },
     "execution_count": 43,
     "metadata": {},
     "output_type": "execute_result"
    }
   ],
   "source": [
    "lag_model_exp = LagModelExperint(\n",
    "    model = CatBoostClassifier(),\n",
    "    train_start = train_start, \n",
    "    train_end = train_end, \n",
    "    test_start = test_start, \n",
    "    test_end = test_end,\n",
    "    label_name = 'Close',\n",
    "    use_pct_changes_data = True,\n",
    "    use_pct_changes_labels = True,\n",
    "    task = 'classification',\n",
    ")\n",
    "\n",
    "results, preds = lag_model_exp.pipeline(df, metric_func=accuracy_score)\n",
    "results"
   ]
  },
  {
   "cell_type": "code",
   "execution_count": 26,
   "metadata": {},
   "outputs": [
    {
     "data": {
      "text/plain": [
       "0.5714285714285714"
      ]
     },
     "execution_count": 26,
     "metadata": {},
     "output_type": "execute_result"
    }
   ],
   "source": [
    "const_exp = ConstPredExperiment(\n",
    "    train_start = train_start, \n",
    "    train_end = train_end, \n",
    "    test_start = test_start, \n",
    "    test_end = test_end,\n",
    "    label_name = 'Close',\n",
    "    use_pct_changes_data = False,\n",
    "    use_pct_changes_labels = False,\n",
    "    task = 'classification',\n",
    ")\n",
    "\n",
    "results, preds = const_exp.pipeline(df, metric_func=accuracy_score)\n",
    "results"
   ]
  },
  {
   "cell_type": "code",
   "execution_count": 28,
   "metadata": {},
   "outputs": [
    {
     "name": "stderr",
     "output_type": "stream",
     "text": [
      "/home/stock_embeddings/miniconda/lib/python3.9/site-packages/huggingface_hub/file_download.py:1132: FutureWarning: `resume_download` is deprecated and will be removed in version 1.0.0. Downloads always resume when possible. If you want to force a new download, use `force_download=True`.\n",
      "  warnings.warn(\n",
      "100%|██████████| 24/24 [00:03<00:00,  6.68it/s]\n"
     ]
    },
    {
     "data": {
      "text/plain": [
       "0.5535714285714286"
      ]
     },
     "execution_count": 28,
     "metadata": {},
     "output_type": "execute_result"
    }
   ],
   "source": [
    "pipeline = ChronosPipeline.from_pretrained(\n",
    "    \"amazon/chronos-t5-tiny\",\n",
    "    device_map=\"cuda:2\",  # use \"cpu\" for CPU inference and \"mps\" for Apple Silicon\n",
    "    torch_dtype=torch.bfloat16,\n",
    ")\n",
    "\n",
    "zs_model_exp = FoundationZeroShort(\n",
    "    model = pipeline,\n",
    "    train_start = train_start, \n",
    "    train_end = train_end, \n",
    "    test_start = test_start, \n",
    "    test_end = test_end,\n",
    "    label_name = 'Close',\n",
    "    use_pct_changes_data = True,\n",
    "    use_pct_changes_labels = True,\n",
    "    task = 'classification',\n",
    ")\n",
    "\n",
    "results, preds = zs_model_exp.pipeline(df, metric_func=accuracy_score)\n",
    "results"
   ]
  },
  {
   "cell_type": "markdown",
   "metadata": {},
   "source": [
    "## multirun"
   ]
  },
  {
   "cell_type": "code",
   "execution_count": 15,
   "metadata": {},
   "outputs": [],
   "source": [
    "regression_models = {\n",
    "    'lr': LinearRegression(),\n",
    "    'rf': RandomForestRegressor(),\n",
    "    'knn': KNeighborsRegressor(),\n",
    "    'svm': SVR(),\n",
    "    'lasso': Lasso(),\n",
    "    'xgb': XGBRegressor(),\n",
    "    'catbst': CatBoostRegressor(),\n",
    "}\n",
    "classification_models = {\n",
    "    'lr': LogisticRegression(),\n",
    "    'rf': RandomForestClassifier(),\n",
    "    'knn': KNeighborsClassifier(),\n",
    "    'xgb': XGBClassifier(),\n",
    "    'catbst': CatBoostClassifier(),\n",
    "}"
   ]
  },
  {
   "cell_type": "code",
   "execution_count": 39,
   "metadata": {},
   "outputs": [],
   "source": [
    "def multirun_pipeline(\n",
    "    emb_model,\n",
    "    zs_model,\n",
    "    model_pool, \n",
    "    main_task: str='regression',\n",
    "    metrics = {'MAPE': MAPE},\n",
    "):\n",
    "    \n",
    "    cols = ['exp', 'model', 'pct_label', 'pct_data']\n",
    "    res_df = pd.DataFrame(columns=cols)\n",
    "    pct_lab_base =  [True, False] if main_task == 'regression' else [True]\n",
    "    for pct_lab in pct_lab_base:\n",
    "        for pct_data in [True, False]:\n",
    "            print('pct_lab:', pct_lab, ',pct_data:', pct_data)\n",
    "\n",
    "            default_params = {\n",
    "                'train_start': train_start, \n",
    "                'train_end': train_end, \n",
    "                'test_start': test_start, \n",
    "                'test_end': test_end,\n",
    "                'label_name': 'Close',\n",
    "                'use_pct_changes_data': pct_data,\n",
    "                'use_pct_changes_labels': pct_lab,\n",
    "                'task': main_task\n",
    "            }\n",
    "            if pct_data == pct_lab:\n",
    "                res_loc, _ = FoundationZeroShort(model=zs_model, **default_params).pipeline(df, metric_dict=metrics)\n",
    "                print(res_loc)\n",
    "                res_df_loc = pd.DataFrame([['zero-short', '-', pct_lab, pct_data]], columns=cols)\n",
    "                for metric_name, metric_val in res_loc.items():\n",
    "                    res_df_loc[metric_name] = metric_val\n",
    "                res_df = pd.concat([res_df, res_df_loc])\n",
    "\n",
    "                res_loc, _ = ConstPredExperiment(**default_params).pipeline(df, metric_dict=metrics)\n",
    "                res_df_loc = pd.DataFrame([['const', '-', pct_lab, pct_data]], columns=cols)\n",
    "                for metric_name, metric_val in res_loc.items():\n",
    "                    res_df_loc[metric_name] = metric_val\n",
    "                res_df = pd.concat([res_df, res_df_loc])\n",
    "\n",
    "\n",
    "            for model_name, model in model_pool.items():\n",
    "                res_loc, _ = SelfSupervisedExperint(model=model, emb_model=emb_model,**default_params).pipeline(df, metric_dict=metrics)\n",
    "                res_df_loc = pd.DataFrame([['self-supervised', model_name, pct_lab, pct_data]], columns=cols)\n",
    "                for metric_name, metric_val in res_loc.items():\n",
    "                    res_df_loc[metric_name] = metric_val\n",
    "                res_df = pd.concat([res_df, res_df_loc])\n",
    "\n",
    "                res_loc, _ = LagModelExperint(model=model, **default_params).pipeline(df, metric_dict=metrics)\n",
    "                res_df_loc = pd.DataFrame([['lag', model_name, pct_lab, pct_data]], columns=cols)\n",
    "                for metric_name, metric_val in res_loc.items():\n",
    "                    res_df_loc[metric_name] = metric_val\n",
    "                res_df = pd.concat([res_df, res_df_loc])\n",
    "                \n",
    "    return res_df\n",
    "\n"
   ]
  },
  {
   "cell_type": "code",
   "execution_count": 40,
   "metadata": {},
   "outputs": [
    {
     "name": "stderr",
     "output_type": "stream",
     "text": [
      "/home/stock_embeddings/miniconda/lib/python3.9/site-packages/huggingface_hub/file_download.py:1132: FutureWarning: `resume_download` is deprecated and will be removed in version 1.0.0. Downloads always resume when possible. If you want to force a new download, use `force_download=True`.\n",
      "  warnings.warn(\n"
     ]
    }
   ],
   "source": [
    "emb_model = TS2Vec(input_dims=4, device=2, output_dims=ts2vec_out_dim)\n",
    "zs_model = ChronosPipeline.from_pretrained(\n",
    "    \"amazon/chronos-t5-tiny\",\n",
    "    device_map=\"cuda:2\",  # use \"cpu\" for CPU inference and \"mps\" for Apple Silicon\n",
    "    torch_dtype=torch.bfloat16,\n",
    ")"
   ]
  },
  {
   "cell_type": "code",
   "execution_count": 41,
   "metadata": {},
   "outputs": [
    {
     "name": "stdout",
     "output_type": "stream",
     "text": [
      "pct_lab: True ,pct_data: True\n"
     ]
    },
    {
     "name": "stderr",
     "output_type": "stream",
     "text": [
      "100%|██████████| 24/24 [00:00<00:00, 24.80it/s]\n"
     ]
    },
    {
     "name": "stdout",
     "output_type": "stream",
     "text": [
      "{'Accuracy': 0.5625, 'ROCAUC': 0.5260416666666666}\n",
      "pct_lab: True ,pct_data: False\n"
     ]
    },
    {
     "name": "stderr",
     "output_type": "stream",
     "text": [
      "/home/stock_embeddings/miniconda/lib/python3.9/site-packages/sklearn/linear_model/_logistic.py:469: ConvergenceWarning: lbfgs failed to converge (status=1):\n",
      "STOP: TOTAL NO. of ITERATIONS REACHED LIMIT.\n",
      "\n",
      "Increase the number of iterations (max_iter) or scale the data as shown in:\n",
      "    https://scikit-learn.org/stable/modules/preprocessing.html\n",
      "Please also refer to the documentation for alternative solver options:\n",
      "    https://scikit-learn.org/stable/modules/linear_model.html#logistic-regression\n",
      "  n_iter_i = _check_optimize_result(\n",
      "/home/stock_embeddings/miniconda/lib/python3.9/site-packages/sklearn/linear_model/_logistic.py:469: ConvergenceWarning: lbfgs failed to converge (status=1):\n",
      "STOP: TOTAL NO. of ITERATIONS REACHED LIMIT.\n",
      "\n",
      "Increase the number of iterations (max_iter) or scale the data as shown in:\n",
      "    https://scikit-learn.org/stable/modules/preprocessing.html\n",
      "Please also refer to the documentation for alternative solver options:\n",
      "    https://scikit-learn.org/stable/modules/linear_model.html#logistic-regression\n",
      "  n_iter_i = _check_optimize_result(\n"
     ]
    }
   ],
   "source": [
    "res_df_classification = multirun_pipeline(\n",
    "    emb_model, \n",
    "    zs_model, \n",
    "    classification_models, \n",
    "    main_task='classification', \n",
    "    metrics={'Accuracy': accuracy_score, 'ROCAUC': roc_auc_score}\n",
    ")\n",
    "\n",
    "# res_df_classification.to_csv('results/baseline_classification.csv')"
   ]
  },
  {
   "cell_type": "code",
   "execution_count": 42,
   "metadata": {},
   "outputs": [
    {
     "data": {
      "text/html": [
       "<div>\n",
       "<style scoped>\n",
       "    .dataframe tbody tr th:only-of-type {\n",
       "        vertical-align: middle;\n",
       "    }\n",
       "\n",
       "    .dataframe tbody tr th {\n",
       "        vertical-align: top;\n",
       "    }\n",
       "\n",
       "    .dataframe thead th {\n",
       "        text-align: right;\n",
       "    }\n",
       "</style>\n",
       "<table border=\"1\" class=\"dataframe\">\n",
       "  <thead>\n",
       "    <tr style=\"text-align: right;\">\n",
       "      <th></th>\n",
       "      <th>exp</th>\n",
       "      <th>model</th>\n",
       "      <th>pct_label</th>\n",
       "      <th>pct_data</th>\n",
       "      <th>Accuracy</th>\n",
       "      <th>ROCAUC</th>\n",
       "    </tr>\n",
       "  </thead>\n",
       "  <tbody>\n",
       "    <tr>\n",
       "      <th>0</th>\n",
       "      <td>const</td>\n",
       "      <td>-</td>\n",
       "      <td>True</td>\n",
       "      <td>True</td>\n",
       "      <td>0.571429</td>\n",
       "      <td>0.558594</td>\n",
       "    </tr>\n",
       "    <tr>\n",
       "      <th>0</th>\n",
       "      <td>zero-short</td>\n",
       "      <td>-</td>\n",
       "      <td>True</td>\n",
       "      <td>True</td>\n",
       "      <td>0.562500</td>\n",
       "      <td>0.526042</td>\n",
       "    </tr>\n",
       "    <tr>\n",
       "      <th>0</th>\n",
       "      <td>self-supervised</td>\n",
       "      <td>lr</td>\n",
       "      <td>True</td>\n",
       "      <td>True</td>\n",
       "      <td>0.406250</td>\n",
       "      <td>0.470007</td>\n",
       "    </tr>\n",
       "    <tr>\n",
       "      <th>0</th>\n",
       "      <td>self-supervised</td>\n",
       "      <td>rf</td>\n",
       "      <td>True</td>\n",
       "      <td>False</td>\n",
       "      <td>0.358631</td>\n",
       "      <td>0.516091</td>\n",
       "    </tr>\n",
       "    <tr>\n",
       "      <th>0</th>\n",
       "      <td>self-supervised</td>\n",
       "      <td>lr</td>\n",
       "      <td>True</td>\n",
       "      <td>False</td>\n",
       "      <td>0.327381</td>\n",
       "      <td>0.436352</td>\n",
       "    </tr>\n",
       "    <tr>\n",
       "      <th>0</th>\n",
       "      <td>self-supervised</td>\n",
       "      <td>xgb</td>\n",
       "      <td>True</td>\n",
       "      <td>False</td>\n",
       "      <td>0.327381</td>\n",
       "      <td>0.491898</td>\n",
       "    </tr>\n",
       "    <tr>\n",
       "      <th>0</th>\n",
       "      <td>self-supervised</td>\n",
       "      <td>catbst</td>\n",
       "      <td>True</td>\n",
       "      <td>False</td>\n",
       "      <td>0.321429</td>\n",
       "      <td>0.462565</td>\n",
       "    </tr>\n",
       "    <tr>\n",
       "      <th>0</th>\n",
       "      <td>self-supervised</td>\n",
       "      <td>knn</td>\n",
       "      <td>True</td>\n",
       "      <td>False</td>\n",
       "      <td>0.299107</td>\n",
       "      <td>0.525124</td>\n",
       "    </tr>\n",
       "    <tr>\n",
       "      <th>0</th>\n",
       "      <td>self-supervised</td>\n",
       "      <td>catbst</td>\n",
       "      <td>True</td>\n",
       "      <td>True</td>\n",
       "      <td>0.297619</td>\n",
       "      <td>0.439028</td>\n",
       "    </tr>\n",
       "    <tr>\n",
       "      <th>0</th>\n",
       "      <td>lag</td>\n",
       "      <td>knn</td>\n",
       "      <td>True</td>\n",
       "      <td>False</td>\n",
       "      <td>0.297619</td>\n",
       "      <td>0.520124</td>\n",
       "    </tr>\n",
       "    <tr>\n",
       "      <th>0</th>\n",
       "      <td>lag</td>\n",
       "      <td>lr</td>\n",
       "      <td>True</td>\n",
       "      <td>False</td>\n",
       "      <td>0.275298</td>\n",
       "      <td>0.531774</td>\n",
       "    </tr>\n",
       "    <tr>\n",
       "      <th>0</th>\n",
       "      <td>self-supervised</td>\n",
       "      <td>knn</td>\n",
       "      <td>True</td>\n",
       "      <td>True</td>\n",
       "      <td>0.266369</td>\n",
       "      <td>0.480690</td>\n",
       "    </tr>\n",
       "    <tr>\n",
       "      <th>0</th>\n",
       "      <td>self-supervised</td>\n",
       "      <td>rf</td>\n",
       "      <td>True</td>\n",
       "      <td>True</td>\n",
       "      <td>0.266369</td>\n",
       "      <td>0.456579</td>\n",
       "    </tr>\n",
       "    <tr>\n",
       "      <th>0</th>\n",
       "      <td>lag</td>\n",
       "      <td>rf</td>\n",
       "      <td>True</td>\n",
       "      <td>False</td>\n",
       "      <td>0.266369</td>\n",
       "      <td>0.496379</td>\n",
       "    </tr>\n",
       "    <tr>\n",
       "      <th>0</th>\n",
       "      <td>self-supervised</td>\n",
       "      <td>xgb</td>\n",
       "      <td>True</td>\n",
       "      <td>True</td>\n",
       "      <td>0.258929</td>\n",
       "      <td>0.427228</td>\n",
       "    </tr>\n",
       "    <tr>\n",
       "      <th>0</th>\n",
       "      <td>lag</td>\n",
       "      <td>rf</td>\n",
       "      <td>True</td>\n",
       "      <td>True</td>\n",
       "      <td>0.247024</td>\n",
       "      <td>0.485618</td>\n",
       "    </tr>\n",
       "    <tr>\n",
       "      <th>0</th>\n",
       "      <td>lag</td>\n",
       "      <td>xgb</td>\n",
       "      <td>True</td>\n",
       "      <td>False</td>\n",
       "      <td>0.244048</td>\n",
       "      <td>0.501429</td>\n",
       "    </tr>\n",
       "    <tr>\n",
       "      <th>0</th>\n",
       "      <td>lag</td>\n",
       "      <td>xgb</td>\n",
       "      <td>True</td>\n",
       "      <td>True</td>\n",
       "      <td>0.241071</td>\n",
       "      <td>0.476192</td>\n",
       "    </tr>\n",
       "    <tr>\n",
       "      <th>0</th>\n",
       "      <td>lag</td>\n",
       "      <td>knn</td>\n",
       "      <td>True</td>\n",
       "      <td>True</td>\n",
       "      <td>0.239583</td>\n",
       "      <td>0.476345</td>\n",
       "    </tr>\n",
       "    <tr>\n",
       "      <th>0</th>\n",
       "      <td>lag</td>\n",
       "      <td>catbst</td>\n",
       "      <td>True</td>\n",
       "      <td>True</td>\n",
       "      <td>0.232143</td>\n",
       "      <td>0.474962</td>\n",
       "    </tr>\n",
       "    <tr>\n",
       "      <th>0</th>\n",
       "      <td>lag</td>\n",
       "      <td>catbst</td>\n",
       "      <td>True</td>\n",
       "      <td>False</td>\n",
       "      <td>0.193452</td>\n",
       "      <td>0.517791</td>\n",
       "    </tr>\n",
       "    <tr>\n",
       "      <th>0</th>\n",
       "      <td>lag</td>\n",
       "      <td>lr</td>\n",
       "      <td>True</td>\n",
       "      <td>True</td>\n",
       "      <td>0.022321</td>\n",
       "      <td>0.527959</td>\n",
       "    </tr>\n",
       "  </tbody>\n",
       "</table>\n",
       "</div>"
      ],
      "text/plain": [
       "               exp   model pct_label pct_data  Accuracy    ROCAUC\n",
       "0            const       -      True     True  0.571429  0.558594\n",
       "0       zero-short       -      True     True  0.562500  0.526042\n",
       "0  self-supervised      lr      True     True  0.406250  0.470007\n",
       "0  self-supervised      rf      True    False  0.358631  0.516091\n",
       "0  self-supervised      lr      True    False  0.327381  0.436352\n",
       "0  self-supervised     xgb      True    False  0.327381  0.491898\n",
       "0  self-supervised  catbst      True    False  0.321429  0.462565\n",
       "0  self-supervised     knn      True    False  0.299107  0.525124\n",
       "0  self-supervised  catbst      True     True  0.297619  0.439028\n",
       "0              lag     knn      True    False  0.297619  0.520124\n",
       "0              lag      lr      True    False  0.275298  0.531774\n",
       "0  self-supervised     knn      True     True  0.266369  0.480690\n",
       "0  self-supervised      rf      True     True  0.266369  0.456579\n",
       "0              lag      rf      True    False  0.266369  0.496379\n",
       "0  self-supervised     xgb      True     True  0.258929  0.427228\n",
       "0              lag      rf      True     True  0.247024  0.485618\n",
       "0              lag     xgb      True    False  0.244048  0.501429\n",
       "0              lag     xgb      True     True  0.241071  0.476192\n",
       "0              lag     knn      True     True  0.239583  0.476345\n",
       "0              lag  catbst      True     True  0.232143  0.474962\n",
       "0              lag  catbst      True    False  0.193452  0.517791\n",
       "0              lag      lr      True     True  0.022321  0.527959"
      ]
     },
     "execution_count": 42,
     "metadata": {},
     "output_type": "execute_result"
    }
   ],
   "source": [
    "res_df_classification.sort_values('Accuracy', ascending=False)"
   ]
  },
  {
   "cell_type": "code",
   "execution_count": null,
   "metadata": {},
   "outputs": [],
   "source": [
    "res_df_regression = multirun_pipeline(emb_model, zs_model, regression_models, main_task='regression')\n",
    "#res_df_regression.to_csv('results/baseline_regression_MAPE.csv')"
   ]
  },
  {
   "cell_type": "code",
   "execution_count": 17,
   "metadata": {},
   "outputs": [],
   "source": [
    "res_df_regression"
   ]
  }
 ],
 "metadata": {
  "kernelspec": {
   "display_name": "Python 3 (ipykernel)",
   "language": "python",
   "name": "python3"
  },
  "language_info": {
   "codemirror_mode": {
    "name": "ipython",
    "version": 3
   },
   "file_extension": ".py",
   "mimetype": "text/x-python",
   "name": "python",
   "nbconvert_exporter": "python",
   "pygments_lexer": "ipython3",
   "version": "3.9.16"
  }
 },
 "nbformat": 4,
 "nbformat_minor": 4
}
