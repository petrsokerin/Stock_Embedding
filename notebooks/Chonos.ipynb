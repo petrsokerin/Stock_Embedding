{
 "cells": [
  {
   "cell_type": "code",
   "execution_count": 1,
   "metadata": {},
   "outputs": [],
   "source": [
    "import os, sys\n",
    "dir2 = os.path.abspath('')\n",
    "dir1 = os.path.dirname(dir2)\n",
    "\n",
    "if not dir1 in sys.path:\n",
    "    sys.path.append(dir1)\n",
    "\n",
    "os.chdir('..')"
   ]
  },
  {
   "cell_type": "code",
   "execution_count": 2,
   "metadata": {},
   "outputs": [],
   "source": [
    "# for plotting, run: pip install pandas matplotlib\n",
    "from tqdm.notebook import tqdm\n",
    "import yaml\n",
    "\n",
    "import matplotlib.pyplot as plt\n",
    "import numpy as np\n",
    "import pandas as pd\n",
    "import torch\n",
    "from chronos import ChronosPipeline\n",
    "from sklearn.metrics import mean_absolute_percentage_error as MAPE\n",
    "\n",
    "from src.data.load_data import pipeline_data\n",
    "\n",
    "%load_ext autoreload\n",
    "%autoreload 2"
   ]
  },
  {
   "cell_type": "markdown",
   "metadata": {},
   "source": [
    "# Toy example"
   ]
  },
  {
   "cell_type": "code",
   "execution_count": 3,
   "metadata": {},
   "outputs": [],
   "source": [
    "# pipeline = ChronosPipeline.from_pretrained(\n",
    "#     \"amazon/chronos-t5-small\",\n",
    "#     device_map=\"cuda:2\",  # use \"cpu\" for CPU inference and \"mps\" for Apple Silicon\n",
    "#     torch_dtype=torch.bfloat16,\n",
    "# )\n",
    "\n",
    "# df = pd.read_csv(\"https://raw.githubusercontent.com/AileenNielsen/TimeSeriesAnalysisWithPython/master/data/AirPassengers.csv\")\n",
    "# df.head()\n",
    "\n",
    "# # context must be either a 1D tensor, a list of 1D tensors,\n",
    "# # or a left-padded 2D tensor with batch as the first dimension\n",
    "# context = torch.tensor(df[\"#Passengers\"])\n",
    "# prediction_length = 12\n",
    "# forecast = pipeline.predict(\n",
    "#     context,\n",
    "#     prediction_length,\n",
    "#     num_samples=20,\n",
    "#     temperature=1.0,\n",
    "#     top_k=50,\n",
    "#     top_p=1.0,\n",
    "# ) # forecast shape: [num_series, num_samples, prediction_length]\n",
    "\n",
    "# # visualize the forecast\n",
    "# forecast_index = range(len(df), len(df) + prediction_length)\n",
    "# low, median, high = np.quantile(forecast[0].numpy(), [0.1, 0.5, 0.9], axis=0)\n",
    "\n",
    "# plt.figure(figsize=(8, 4))\n",
    "# plt.plot(df[\"#Passengers\"], color=\"royalblue\", label=\"historical data\")\n",
    "# plt.plot(forecast_index, median, color=\"tomato\", label=\"median forecast\")\n",
    "# plt.fill_between(forecast_index, low, high, color=\"tomato\", alpha=0.3, label=\"80% prediction interval\")\n",
    "# plt.legend()\n",
    "# plt.grid()\n",
    "# plt.show()"
   ]
  },
  {
   "cell_type": "code",
   "execution_count": 4,
   "metadata": {},
   "outputs": [
    {
     "name": "stderr",
     "output_type": "stream",
     "text": [
      "/home/stock_embeddings/miniconda/lib/python3.9/site-packages/huggingface_hub/file_download.py:1132: FutureWarning: `resume_download` is deprecated and will be removed in version 1.0.0. Downloads always resume when possible. If you want to force a new download, use `force_download=True`.\n",
      "  warnings.warn(\n"
     ]
    }
   ],
   "source": [
    "pipeline = ChronosPipeline.from_pretrained(\n",
    "    \"amazon/chronos-t5-small\",\n",
    "    device_map=\"cuda\",\n",
    "    torch_dtype=torch.bfloat16,\n",
    ")\n",
    "\n",
    "df = pd.read_csv(\"https://raw.githubusercontent.com/AileenNielsen/TimeSeriesAnalysisWithPython/master/data/AirPassengers.csv\")\n",
    "\n",
    "# context must be either a 1D tensor, a list of 1D tensors,\n",
    "# or a left-padded 2D tensor with batch as the first dimension\n",
    "context = torch.tensor(df[\"#Passengers\"])\n",
    "embeddings, tokenizer_state = pipeline.embed(context)"
   ]
  },
  {
   "cell_type": "code",
   "execution_count": 5,
   "metadata": {},
   "outputs": [
    {
     "data": {
      "text/plain": [
       "(torch.Size([144]), torch.Size([1, 145, 512]))"
      ]
     },
     "execution_count": 5,
     "metadata": {},
     "output_type": "execute_result"
    }
   ],
   "source": [
    "context.shape, embeddings.shape"
   ]
  },
  {
   "cell_type": "markdown",
   "metadata": {},
   "source": [
    "# our data example"
   ]
  },
  {
   "cell_type": "markdown",
   "metadata": {},
   "source": [
    "## config"
   ]
  },
  {
   "cell_type": "code",
   "execution_count": 6,
   "metadata": {},
   "outputs": [],
   "source": [
    "col_agg_finctions = {'Open': 'first', 'High': 'max', 'Low': 'min', 'Close': 'last', 'Volume': 'sum'}\n",
    "\n",
    "train_start, train_end = '2023-10-01', '2023-11-01'\n",
    "test_start, test_end = '2023-11-01', '2023-11-07'\n",
    "\n",
    "use_pct_changes = False"
   ]
  },
  {
   "cell_type": "markdown",
   "metadata": {},
   "source": [
    "## data preprocessing "
   ]
  },
  {
   "cell_type": "code",
   "execution_count": 7,
   "metadata": {},
   "outputs": [],
   "source": [
    "df = pipeline_data(col_agg_finctions=col_agg_finctions)"
   ]
  },
  {
   "cell_type": "markdown",
   "metadata": {},
   "source": [
    "## chronos preprocessing"
   ]
  },
  {
   "cell_type": "code",
   "execution_count": 8,
   "metadata": {},
   "outputs": [],
   "source": [
    "X_baseline = df.reset_index()"
   ]
  },
  {
   "cell_type": "code",
   "execution_count": 9,
   "metadata": {},
   "outputs": [
    {
     "data": {
      "text/html": [
       "<div>\n",
       "<style scoped>\n",
       "    .dataframe tbody tr th:only-of-type {\n",
       "        vertical-align: middle;\n",
       "    }\n",
       "\n",
       "    .dataframe tbody tr th {\n",
       "        vertical-align: top;\n",
       "    }\n",
       "\n",
       "    .dataframe thead th {\n",
       "        text-align: right;\n",
       "    }\n",
       "</style>\n",
       "<table border=\"1\" class=\"dataframe\">\n",
       "  <thead>\n",
       "    <tr style=\"text-align: right;\">\n",
       "      <th></th>\n",
       "      <th>Datetime</th>\n",
       "      <th>AAPL</th>\n",
       "      <th>ABBV</th>\n",
       "      <th>ABT</th>\n",
       "      <th>AMD</th>\n",
       "      <th>BAC</th>\n",
       "      <th>CMCSA</th>\n",
       "      <th>CRM</th>\n",
       "      <th>CSCO</th>\n",
       "      <th>CVX</th>\n",
       "      <th>...</th>\n",
       "      <th>NVDA</th>\n",
       "      <th>PEP</th>\n",
       "      <th>PFE</th>\n",
       "      <th>PG</th>\n",
       "      <th>TSLA</th>\n",
       "      <th>V</th>\n",
       "      <th>VZ</th>\n",
       "      <th>WFC</th>\n",
       "      <th>WMT</th>\n",
       "      <th>XOM</th>\n",
       "    </tr>\n",
       "  </thead>\n",
       "  <tbody>\n",
       "    <tr>\n",
       "      <th>0</th>\n",
       "      <td>2023-01-30 17:00:00</td>\n",
       "      <td>145.15</td>\n",
       "      <td>146.32</td>\n",
       "      <td>110.130</td>\n",
       "      <td>73.950</td>\n",
       "      <td>35.490</td>\n",
       "      <td>39.370</td>\n",
       "      <td>166.12</td>\n",
       "      <td>48.450</td>\n",
       "      <td>176.79</td>\n",
       "      <td>...</td>\n",
       "      <td>130674</td>\n",
       "      <td>6845</td>\n",
       "      <td>101778</td>\n",
       "      <td>8754</td>\n",
       "      <td>619472</td>\n",
       "      <td>17282</td>\n",
       "      <td>133297</td>\n",
       "      <td>79262</td>\n",
       "      <td>13907</td>\n",
       "      <td>44389</td>\n",
       "    </tr>\n",
       "    <tr>\n",
       "      <th>1</th>\n",
       "      <td>2023-01-30 18:00:00</td>\n",
       "      <td>143.97</td>\n",
       "      <td>146.74</td>\n",
       "      <td>110.350</td>\n",
       "      <td>72.760</td>\n",
       "      <td>35.410</td>\n",
       "      <td>39.410</td>\n",
       "      <td>165.20</td>\n",
       "      <td>48.285</td>\n",
       "      <td>176.90</td>\n",
       "      <td>...</td>\n",
       "      <td>155991</td>\n",
       "      <td>22557</td>\n",
       "      <td>155382</td>\n",
       "      <td>17376</td>\n",
       "      <td>858003</td>\n",
       "      <td>34358</td>\n",
       "      <td>146068</td>\n",
       "      <td>150905</td>\n",
       "      <td>23264</td>\n",
       "      <td>47074</td>\n",
       "    </tr>\n",
       "    <tr>\n",
       "      <th>2</th>\n",
       "      <td>2023-01-30 19:00:00</td>\n",
       "      <td>144.07</td>\n",
       "      <td>146.36</td>\n",
       "      <td>110.500</td>\n",
       "      <td>73.605</td>\n",
       "      <td>35.495</td>\n",
       "      <td>39.450</td>\n",
       "      <td>165.18</td>\n",
       "      <td>48.320</td>\n",
       "      <td>176.02</td>\n",
       "      <td>...</td>\n",
       "      <td>92639</td>\n",
       "      <td>21045</td>\n",
       "      <td>185167</td>\n",
       "      <td>16732</td>\n",
       "      <td>434266</td>\n",
       "      <td>19724</td>\n",
       "      <td>127442</td>\n",
       "      <td>107253</td>\n",
       "      <td>16433</td>\n",
       "      <td>49605</td>\n",
       "    </tr>\n",
       "    <tr>\n",
       "      <th>3</th>\n",
       "      <td>2023-01-30 20:00:00</td>\n",
       "      <td>143.38</td>\n",
       "      <td>145.67</td>\n",
       "      <td>110.260</td>\n",
       "      <td>73.185</td>\n",
       "      <td>35.420</td>\n",
       "      <td>39.410</td>\n",
       "      <td>165.18</td>\n",
       "      <td>48.270</td>\n",
       "      <td>175.45</td>\n",
       "      <td>...</td>\n",
       "      <td>81168</td>\n",
       "      <td>23416</td>\n",
       "      <td>99458</td>\n",
       "      <td>17082</td>\n",
       "      <td>264365</td>\n",
       "      <td>10681</td>\n",
       "      <td>91513</td>\n",
       "      <td>99694</td>\n",
       "      <td>14201</td>\n",
       "      <td>38770</td>\n",
       "    </tr>\n",
       "    <tr>\n",
       "      <th>4</th>\n",
       "      <td>2023-01-30 21:00:00</td>\n",
       "      <td>143.31</td>\n",
       "      <td>145.89</td>\n",
       "      <td>110.210</td>\n",
       "      <td>72.960</td>\n",
       "      <td>35.420</td>\n",
       "      <td>39.410</td>\n",
       "      <td>165.66</td>\n",
       "      <td>48.310</td>\n",
       "      <td>175.45</td>\n",
       "      <td>...</td>\n",
       "      <td>61279</td>\n",
       "      <td>12312</td>\n",
       "      <td>101437</td>\n",
       "      <td>14687</td>\n",
       "      <td>382839</td>\n",
       "      <td>13021</td>\n",
       "      <td>93335</td>\n",
       "      <td>96519</td>\n",
       "      <td>11797</td>\n",
       "      <td>31317</td>\n",
       "    </tr>\n",
       "    <tr>\n",
       "      <th>...</th>\n",
       "      <td>...</td>\n",
       "      <td>...</td>\n",
       "      <td>...</td>\n",
       "      <td>...</td>\n",
       "      <td>...</td>\n",
       "      <td>...</td>\n",
       "      <td>...</td>\n",
       "      <td>...</td>\n",
       "      <td>...</td>\n",
       "      <td>...</td>\n",
       "      <td>...</td>\n",
       "      <td>...</td>\n",
       "      <td>...</td>\n",
       "      <td>...</td>\n",
       "      <td>...</td>\n",
       "      <td>...</td>\n",
       "      <td>...</td>\n",
       "      <td>...</td>\n",
       "      <td>...</td>\n",
       "      <td>...</td>\n",
       "      <td>...</td>\n",
       "    </tr>\n",
       "    <tr>\n",
       "      <th>1502</th>\n",
       "      <td>2024-01-30 18:00:00</td>\n",
       "      <td>188.41</td>\n",
       "      <td>163.79</td>\n",
       "      <td>112.660</td>\n",
       "      <td>176.630</td>\n",
       "      <td>34.490</td>\n",
       "      <td>46.485</td>\n",
       "      <td>287.00</td>\n",
       "      <td>52.080</td>\n",
       "      <td>149.36</td>\n",
       "      <td>...</td>\n",
       "      <td>205395</td>\n",
       "      <td>24443</td>\n",
       "      <td>729516</td>\n",
       "      <td>39876</td>\n",
       "      <td>443406</td>\n",
       "      <td>20571</td>\n",
       "      <td>158275</td>\n",
       "      <td>101913</td>\n",
       "      <td>21437</td>\n",
       "      <td>159389</td>\n",
       "    </tr>\n",
       "    <tr>\n",
       "      <th>1503</th>\n",
       "      <td>2024-01-30 19:00:00</td>\n",
       "      <td>188.66</td>\n",
       "      <td>163.95</td>\n",
       "      <td>112.800</td>\n",
       "      <td>176.530</td>\n",
       "      <td>34.810</td>\n",
       "      <td>46.605</td>\n",
       "      <td>287.25</td>\n",
       "      <td>52.085</td>\n",
       "      <td>149.52</td>\n",
       "      <td>...</td>\n",
       "      <td>79521</td>\n",
       "      <td>10234</td>\n",
       "      <td>371461</td>\n",
       "      <td>32265</td>\n",
       "      <td>295428</td>\n",
       "      <td>20999</td>\n",
       "      <td>92370</td>\n",
       "      <td>49361</td>\n",
       "      <td>14833</td>\n",
       "      <td>90110</td>\n",
       "    </tr>\n",
       "    <tr>\n",
       "      <th>1504</th>\n",
       "      <td>2024-01-30 20:00:00</td>\n",
       "      <td>187.98</td>\n",
       "      <td>164.39</td>\n",
       "      <td>113.230</td>\n",
       "      <td>173.550</td>\n",
       "      <td>34.810</td>\n",
       "      <td>46.690</td>\n",
       "      <td>287.51</td>\n",
       "      <td>52.190</td>\n",
       "      <td>149.12</td>\n",
       "      <td>...</td>\n",
       "      <td>130748</td>\n",
       "      <td>8674</td>\n",
       "      <td>232921</td>\n",
       "      <td>19543</td>\n",
       "      <td>237706</td>\n",
       "      <td>14822</td>\n",
       "      <td>101060</td>\n",
       "      <td>152049</td>\n",
       "      <td>19587</td>\n",
       "      <td>54009</td>\n",
       "    </tr>\n",
       "    <tr>\n",
       "      <th>1505</th>\n",
       "      <td>2024-01-30 21:00:00</td>\n",
       "      <td>188.04</td>\n",
       "      <td>164.61</td>\n",
       "      <td>113.410</td>\n",
       "      <td>170.660</td>\n",
       "      <td>34.810</td>\n",
       "      <td>46.625</td>\n",
       "      <td>288.47</td>\n",
       "      <td>52.200</td>\n",
       "      <td>149.73</td>\n",
       "      <td>...</td>\n",
       "      <td>112609</td>\n",
       "      <td>10492</td>\n",
       "      <td>199257</td>\n",
       "      <td>37485</td>\n",
       "      <td>186085</td>\n",
       "      <td>11235</td>\n",
       "      <td>61075</td>\n",
       "      <td>44407</td>\n",
       "      <td>18679</td>\n",
       "      <td>61363</td>\n",
       "    </tr>\n",
       "    <tr>\n",
       "      <th>1506</th>\n",
       "      <td>2024-01-30 22:00:00</td>\n",
       "      <td>188.13</td>\n",
       "      <td>164.77</td>\n",
       "      <td>113.455</td>\n",
       "      <td>171.780</td>\n",
       "      <td>34.845</td>\n",
       "      <td>46.735</td>\n",
       "      <td>288.38</td>\n",
       "      <td>52.155</td>\n",
       "      <td>150.21</td>\n",
       "      <td>...</td>\n",
       "      <td>82144</td>\n",
       "      <td>11443</td>\n",
       "      <td>298315</td>\n",
       "      <td>40001</td>\n",
       "      <td>107764</td>\n",
       "      <td>15423</td>\n",
       "      <td>62497</td>\n",
       "      <td>38667</td>\n",
       "      <td>27560</td>\n",
       "      <td>91004</td>\n",
       "    </tr>\n",
       "  </tbody>\n",
       "</table>\n",
       "<p>1507 rows × 141 columns</p>\n",
       "</div>"
      ],
      "text/plain": [
       "                Datetime    AAPL    ABBV      ABT      AMD     BAC   CMCSA  \\\n",
       "0    2023-01-30 17:00:00  145.15  146.32  110.130   73.950  35.490  39.370   \n",
       "1    2023-01-30 18:00:00  143.97  146.74  110.350   72.760  35.410  39.410   \n",
       "2    2023-01-30 19:00:00  144.07  146.36  110.500   73.605  35.495  39.450   \n",
       "3    2023-01-30 20:00:00  143.38  145.67  110.260   73.185  35.420  39.410   \n",
       "4    2023-01-30 21:00:00  143.31  145.89  110.210   72.960  35.420  39.410   \n",
       "...                  ...     ...     ...      ...      ...     ...     ...   \n",
       "1502 2024-01-30 18:00:00  188.41  163.79  112.660  176.630  34.490  46.485   \n",
       "1503 2024-01-30 19:00:00  188.66  163.95  112.800  176.530  34.810  46.605   \n",
       "1504 2024-01-30 20:00:00  187.98  164.39  113.230  173.550  34.810  46.690   \n",
       "1505 2024-01-30 21:00:00  188.04  164.61  113.410  170.660  34.810  46.625   \n",
       "1506 2024-01-30 22:00:00  188.13  164.77  113.455  171.780  34.845  46.735   \n",
       "\n",
       "         CRM    CSCO     CVX  ...    NVDA    PEP     PFE     PG    TSLA  \\\n",
       "0     166.12  48.450  176.79  ...  130674   6845  101778   8754  619472   \n",
       "1     165.20  48.285  176.90  ...  155991  22557  155382  17376  858003   \n",
       "2     165.18  48.320  176.02  ...   92639  21045  185167  16732  434266   \n",
       "3     165.18  48.270  175.45  ...   81168  23416   99458  17082  264365   \n",
       "4     165.66  48.310  175.45  ...   61279  12312  101437  14687  382839   \n",
       "...      ...     ...     ...  ...     ...    ...     ...    ...     ...   \n",
       "1502  287.00  52.080  149.36  ...  205395  24443  729516  39876  443406   \n",
       "1503  287.25  52.085  149.52  ...   79521  10234  371461  32265  295428   \n",
       "1504  287.51  52.190  149.12  ...  130748   8674  232921  19543  237706   \n",
       "1505  288.47  52.200  149.73  ...  112609  10492  199257  37485  186085   \n",
       "1506  288.38  52.155  150.21  ...   82144  11443  298315  40001  107764   \n",
       "\n",
       "          V      VZ     WFC    WMT     XOM  \n",
       "0     17282  133297   79262  13907   44389  \n",
       "1     34358  146068  150905  23264   47074  \n",
       "2     19724  127442  107253  16433   49605  \n",
       "3     10681   91513   99694  14201   38770  \n",
       "4     13021   93335   96519  11797   31317  \n",
       "...     ...     ...     ...    ...     ...  \n",
       "1502  20571  158275  101913  21437  159389  \n",
       "1503  20999   92370   49361  14833   90110  \n",
       "1504  14822  101060  152049  19587   54009  \n",
       "1505  11235   61075   44407  18679   61363  \n",
       "1506  15423   62497   38667  27560   91004  \n",
       "\n",
       "[1507 rows x 141 columns]"
      ]
     },
     "execution_count": 9,
     "metadata": {},
     "output_type": "execute_result"
    }
   ],
   "source": [
    "X_chron = X_baseline.pivot(index='Datetime', columns='Stock')\\\n",
    "    .reset_index()\n",
    "X_chron.columns = X_chron.columns.droplevel()\n",
    "X_chron.columns = ['Datetime'] + X_chron.columns.tolist()[1:]\n",
    "X_chron"
   ]
  },
  {
   "cell_type": "code",
   "execution_count": 10,
   "metadata": {},
   "outputs": [
    {
     "name": "stderr",
     "output_type": "stream",
     "text": [
      "/home/stock_embeddings/miniconda/lib/python3.9/site-packages/huggingface_hub/file_download.py:1132: FutureWarning: `resume_download` is deprecated and will be removed in version 1.0.0. Downloads always resume when possible. If you want to force a new download, use `force_download=True`.\n",
      "  warnings.warn(\n"
     ]
    },
    {
     "data": {
      "application/vnd.jupyter.widget-view+json": {
       "model_id": "e86f8632501544a69c31de37767ee31e",
       "version_major": 2,
       "version_minor": 0
      },
      "text/plain": [
       "config.json:   0%|          | 0.00/1.11k [00:00<?, ?B/s]"
      ]
     },
     "metadata": {},
     "output_type": "display_data"
    },
    {
     "data": {
      "application/vnd.jupyter.widget-view+json": {
       "model_id": "8d0c14e1f5c14a45b63c62cc75dbdf62",
       "version_major": 2,
       "version_minor": 0
      },
      "text/plain": [
       "model.safetensors:   0%|          | 0.00/81.8M [00:00<?, ?B/s]"
      ]
     },
     "metadata": {},
     "output_type": "display_data"
    },
    {
     "data": {
      "application/vnd.jupyter.widget-view+json": {
       "model_id": "38ddf07ea9b34601861897f138cde834",
       "version_major": 2,
       "version_minor": 0
      },
      "text/plain": [
       "generation_config.json:   0%|          | 0.00/142 [00:00<?, ?B/s]"
      ]
     },
     "metadata": {},
     "output_type": "display_data"
    }
   ],
   "source": [
    "pipeline = ChronosPipeline.from_pretrained(\n",
    "    \"amazon/chronos-t5-mini\",\n",
    "    device_map=\"cuda:2\",  # use \"cpu\" for CPU inference and \"mps\" for Apple Silicon\n",
    "    torch_dtype=torch.bfloat16,\n",
    ")"
   ]
  },
  {
   "cell_type": "code",
   "execution_count": 11,
   "metadata": {},
   "outputs": [
    {
     "data": {
      "application/vnd.jupyter.widget-view+json": {
       "model_id": "47719e3557ad47348a7ad93835e79a61",
       "version_major": 2,
       "version_minor": 0
      },
      "text/plain": [
       "  0%|          | 0/364 [00:00<?, ?it/s]"
      ]
     },
     "metadata": {},
     "output_type": "display_data"
    },
    {
     "name": "stdout",
     "output_type": "stream",
     "text": [
      "MAPE на тесте 0.11131749302428685\n"
     ]
    }
   ],
   "source": [
    "prediction_length = 1\n",
    "\n",
    "test_indexes = X_chron[X_chron['Datetime'] > test_start].index\n",
    "X_chron_stocks = X_chron.drop(columns=['Datetime'])\n",
    "\n",
    "seq_len_test = len(test_indexes)\n",
    "n_stocks = X_chron_stocks.shape[1]\n",
    "y_pred_all = np.zeros((seq_len_test, n_stocks))\n",
    "y_test_all = np.zeros((seq_len_test, n_stocks))\n",
    "\n",
    "for i, test_idx in enumerate(tqdm(test_indexes)):\n",
    "    X_stock_test = X_chron_stocks.iloc[:test_idx-1]\n",
    "    y_true = X_chron_stocks.iloc[test_idx].values\n",
    "    chron_input = torch.tensor(X_stock_test.values.T)\n",
    "    \n",
    "    forecast = pipeline.predict(\n",
    "        chron_input,\n",
    "        prediction_length,\n",
    "        num_samples=50,\n",
    "        temperature=1.0,\n",
    "        top_k=50,\n",
    "        top_p=1.0,\n",
    "    ) \n",
    "\n",
    "    pred = np.median(forecast.numpy(), axis=1).flatten()\n",
    "    y_pred_all[i] = y_true\n",
    "    y_test_all[i] += pred\n",
    "\n",
    "y_pred_all = y_pred_all.flatten()\n",
    "y_test_all = y_test_all.flatten()\n",
    "print('MAPE на тесте', MAPE(y_test_all, y_pred_all))"
   ]
  },
  {
   "cell_type": "code",
   "execution_count": null,
   "metadata": {},
   "outputs": [],
   "source": []
  },
  {
   "cell_type": "code",
   "execution_count": null,
   "metadata": {},
   "outputs": [],
   "source": []
  }
 ],
 "metadata": {
  "kernelspec": {
   "display_name": "base",
   "language": "python",
   "name": "python3"
  },
  "language_info": {
   "codemirror_mode": {
    "name": "ipython",
    "version": 3
   },
   "file_extension": ".py",
   "mimetype": "text/x-python",
   "name": "python",
   "nbconvert_exporter": "python",
   "pygments_lexer": "ipython3",
   "version": "3.9.16"
  }
 },
 "nbformat": 4,
 "nbformat_minor": 2
}
